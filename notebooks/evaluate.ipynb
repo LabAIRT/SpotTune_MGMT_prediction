{
 "cells": [
  {
   "cell_type": "markdown",
   "id": "f3d8289d-b45d-4385-8798-5e9c7cf78f83",
   "metadata": {
    "tags": []
   },
   "source": [
    "# Evaluation notebook\n",
    "\n",
    "This notebook is for evaluating trained models, and manipulating/combining their probabilities. The first couple cells set up the packages"
   ]
  },
  {
   "cell_type": "code",
   "execution_count": 1,
   "id": "1fdb6a41-f65b-422a-8937-6574bd89932a",
   "metadata": {},
   "outputs": [],
   "source": [
    "%load_ext autoreload\n",
    "%autoreload 2\n",
    "%reload_ext tensorboard\n",
    "#%matplotlib qt"
   ]
  },
  {
   "cell_type": "code",
   "execution_count": 2,
   "id": "ba4b7199-b10e-4f05-aed5-5187e91ed955",
   "metadata": {},
   "outputs": [],
   "source": [
    "# This is a blanket include statement cell, some of these may not be used in this notebook specifically\n",
    "\n",
    "import os\n",
    "from datetime import datetime\n",
    "import pandas as pd\n",
    "import numpy as np\n",
    "import json\n",
    "import pickle\n",
    "import matplotlib.pyplot as plt\n",
    "from matplotlib.backends.backend_pdf import PdfPages\n",
    "from collections import OrderedDict\n",
    "import SimpleITK as sitk\n",
    "#import logging\n",
    "#logging.getLogger(\"tensorflow\").setLevel(logging.ERROR)\n",
    "from collections import OrderedDict\n",
    "import torch\n",
    "import torchvision\n",
    "from torch import nn\n",
    "from torch.utils.data import DataLoader\n",
    "from torch.utils.tensorboard import SummaryWriter\n",
    "from torchvision import datasets\n",
    "\n",
    "import scipy\n",
    "\n",
    "import torchmetrics\n",
    "\n",
    "#import initial_ml as iml\n",
    "from gbm_project import data_prep as dp\n",
    "from gbm_project.pytorch.run_model_torch import RunModel\n",
    "from gbm_project.pytorch import resnet_spottune as rs\n",
    "from MedicalNet.models import resnet\n"
   ]
  },
  {
   "cell_type": "code",
   "execution_count": 3,
   "id": "672bda66-fb93-4df7-bac8-c2cf351b9c2f",
   "metadata": {},
   "outputs": [
    {
     "name": "stdout",
     "output_type": "stream",
     "text": [
      "using cuda device\n"
     ]
    }
   ],
   "source": [
    "device = \"cuda\" if torch.cuda.is_available() else \"cpu\"\n",
    "torch.manual_seed(42)\n",
    "print(f\"using {device} device\")\n",
    "#torch.backends.cudnn.benchmark = False\n",
    "#torch.use_deterministic_algorithms(True)"
   ]
  },
  {
   "cell_type": "markdown",
   "id": "4162d8dd-7f1d-4c7b-9c80-76fd749e7233",
   "metadata": {
    "tags": []
   },
   "source": [
    "## Making probability pickles\n",
    "The following cell take the trainings with logs specified in temperature_test_cfg.py and creates pickles of the probability evaluations. The entries in temperature_test_cfg.py are seperated by training, and the logs with each entry correspond to the 5 folds from the cross-validation splitting"
   ]
  },
  {
   "cell_type": "code",
   "execution_count": null,
   "id": "49f848cc-9c9b-457e-8863-67b9ce7dbbff",
   "metadata": {
    "scrolled": true,
    "tags": []
   },
   "outputs": [],
   "source": [
    "#directory that contains the dataset csvs\n",
    "csv_dir = '../../data/upenn_GBM/csvs/radiomic_features_CaPTk/'\n",
    "\n",
    "#The directory that points to the location of the npy directories\n",
    "mod_image_dir = '../../data/upenn_GBM'\n",
    "\n",
    "# will run over the 5-fold models specified in temp_ids\n",
    "# temp_ids is a dictionary of trainings, where the label is the name of the training and points to a list of log-numbers corresponding to the trainings of the different folds\n",
    "from gbm_project.pytorch.temperature_test_cfg import temp_ids\n",
    "\n",
    "fold_list = ['fold_0',\n",
    "             'fold_1',\n",
    "             'fold_2',\n",
    "             'fold_3',\n",
    "             'fold_4'\n",
    "            ]\n",
    "\n",
    "fold_test_probabilities = {}\n",
    "fold_val_probabilities = {}\n",
    "for training, training_list in temp_ids.items():\n",
    "    fold_test_probabilities = {}\n",
    "    fold_val_probabilities = {}\n",
    "    for i, fold in enumerate(fold_list):\n",
    "        sampling_val_probabilities = []\n",
    "        sampling_test_probabilities = []\n",
    "        date_str = training_list[i]\n",
    "        file = 'best_model.pth'\n",
    "        log_dir = f\"./logs/{date_str}\"\n",
    "        log_file = f\"./logs/{date_str}/{file}\"\n",
    "        try:\n",
    "            state_dict = torch.load(log_file)\n",
    "        except:\n",
    "            print(f\"no good model in training with id: {date_str}, using last model instead\") \n",
    "            file = 'last_model.pth'\n",
    "            log_dir = f\"./logs/{date_str}\"\n",
    "            log_file = f\"./logs/{date_str}/{file}\"\n",
    "            state_dict = torch.load(log_file)\n",
    "            \n",
    "        state_dict['gen_params']['n_classes'] = 1\n",
    "        state_dict['config']['log_dir'] = log_dir\n",
    "        #state_dict['config']['sen_threshold'] = 0.55\n",
    "        #state_dict['config']['spe_threshold'] = 0.55\n",
    "        #state_dict['gen_params']['use_clinical'] = False\n",
    "        model_test = RunModel(state_dict['config'], state_dict['gen_params'])\n",
    "        torch.manual_seed(42)\n",
    "        model_test.gen_params['make_augment']=False\n",
    "\n",
    "        #################################################################\n",
    "        #model_test.set_model(model_name='MedResNet50', transfer=True)\n",
    "        #model_test.set_model(model_name='ResNet50_torch', transfer=True)\n",
    "        #model_test.set_model(model_name='ResNet50', transfer=False)\n",
    "        #model_test.set_model(model_name='spottune_imagenet', transfer=True)\n",
    "        model_test.set_model(model_name='spottune', transfer=True)\n",
    "        #################################################################\n",
    "        model_test.set_agent()\n",
    "        patients = dp.retrieve_patients(csv_dir, state_dict['gen_params']['data_dir'], modality='npy')\n",
    "        modality = state_dict['gen_params']['data_dir'].split('_')[-3]\n",
    "        X_test, y_test, kfold, X_kfold, y_kfold = dp.split_image_v2(csv_dir, mod_image_dir, n_cat=1, n_splits=5, modality=modality)\n",
    "        X_kfold_val = {}\n",
    "        y_kfold_val = {}\n",
    "        for i, (train_index, val_index) in enumerate(kfold.split(X_kfold, y_kfold)):\n",
    "            X_kfold_val[f\"fold_{i}\"] = X_kfold[val_index]\n",
    "            y_kfold_val[f\"fold_{i}\"] = y_kfold.iloc[val_index]\n",
    "        model_test.seed_switch = 'high'\n",
    "        model_test.model.load_state_dict(state_dict['model_state_dict'])\n",
    "        #model_test.agent.load_state_dict(state_dict['agent_state_dict'])\n",
    "        model_test.set_val_data(X_kfold_val[fold], y_kfold_val[fold])\n",
    "        model_test.set_test_data(X_test, y_test)\n",
    "        \n",
    "        torch.manual_seed(42)\n",
    "        print(f\"Evaluating {fold}\")\n",
    "        print(f\"{fold} validation\")\n",
    "        max_range = 1\n",
    "        for j in range(max_range):\n",
    "            sampling_val_probabilities.append(np.array(model_test.predict('val')))\n",
    "        torch.manual_seed(42)\n",
    "        print(f\"{fold} testing\\n\")\n",
    "        for j in range(max_range):\n",
    "            sampling_test_probabilities.append(np.array(model_test.predict('test')))\n",
    "        print(\"\\n\")    \n",
    "        fold_val_probabilities[fold] = (X_kfold_val[fold], np.array(sampling_val_probabilities))\n",
    "        fold_test_probabilities[fold] = (X_test, np.array(sampling_test_probabilities))\n",
    "        \n",
    "    with open(f\"./results_spottune/{training}_val.pkl\", 'wb') as f:\n",
    "        pickle.dump(fold_val_probabilities, f)\n",
    "        f.close()\n",
    "    with open(f\"./results_spottune/{training}_test.pkl\", 'wb') as f:\n",
    "        pickle.dump(fold_test_probabilities, f)\n",
    "        f.close()"
   ]
  }
 ],
 "metadata": {
  "kernelspec": {
   "display_name": "pytorch_gpu",
   "language": "python",
   "name": "pytorch_gpu"
  },
  "language_info": {
   "codemirror_mode": {
    "name": "ipython",
    "version": 3
   },
   "file_extension": ".py",
   "mimetype": "text/x-python",
   "name": "python",
   "nbconvert_exporter": "python",
   "pygments_lexer": "ipython3",
   "version": "3.10.13"
  }
 },
 "nbformat": 4,
 "nbformat_minor": 5
}
