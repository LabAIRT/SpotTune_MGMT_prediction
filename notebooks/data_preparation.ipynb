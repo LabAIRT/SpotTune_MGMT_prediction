{
 "cells": [
  {
   "cell_type": "markdown",
   "id": "f3d8289d-b45d-4385-8798-5e9c7cf78f83",
   "metadata": {},
   "source": [
    "# Data Preparation\n",
    "The purpose of this notebook is to create the npy files that will be used for training purposes"
   ]
  },
  {
   "cell_type": "code",
   "execution_count": 1,
   "id": "1fdb6a41-f65b-422a-8937-6574bd89932a",
   "metadata": {},
   "outputs": [],
   "source": [
    "%load_ext autoreload\n",
    "%autoreload 2\n",
    "%reload_ext tensorboard\n",
    "#%matplotlib qt"
   ]
  },
  {
   "cell_type": "code",
   "execution_count": 2,
   "id": "ba4b7199-b10e-4f05-aed5-5187e91ed955",
   "metadata": {},
   "outputs": [],
   "source": [
    "import os\n",
    "from datetime import datetime\n",
    "import pandas as pd\n",
    "import numpy as np\n",
    "import json\n",
    "import matplotlib.pyplot as plt\n",
    "from matplotlib.backends.backend_pdf import PdfPages\n",
    "from collections import OrderedDict\n",
    "import SimpleITK as sitk\n",
    "#import logging\n",
    "#logging.getLogger(\"tensorflow\").setLevel(logging.ERROR)\n",
    "from collections import OrderedDict\n",
    "import torch\n",
    "import torchvision\n",
    "from torch import nn\n",
    "from torch.utils.data import DataLoader\n",
    "from torch.utils.tensorboard import SummaryWriter\n",
    "from torchvision import datasets\n",
    "\n",
    "import pickle, subprocess\n",
    "import scipy\n",
    "import sklearn\n",
    "import csv\n",
    "\n",
    "import torchmetrics\n",
    "\n",
    "#import initial_ml as iml\n",
    "from gbm_project import data_prep as dp\n",
    "from gbm_project.pytorch.run_model_torch import RunModel\n",
    "from gbm_project.pytorch import resnet_spottune as rs\n",
    "from MedicalNet.models import resnet"
   ]
  },
  {
   "cell_type": "code",
   "execution_count": 3,
   "id": "672bda66-fb93-4df7-bac8-c2cf351b9c2f",
   "metadata": {},
   "outputs": [
    {
     "name": "stdout",
     "output_type": "stream",
     "text": [
      "using cuda device\n"
     ]
    }
   ],
   "source": [
    "device = \"cuda\" if torch.cuda.is_available() else \"cpu\"\n",
    "torch.manual_seed(42)\n",
    "print(f\"using {device} device\")\n",
    "#torch.backends.cudnn.benchmark = False\n",
    "#torch.use_deterministic_algorithms(True)"
   ]
  },
  {
   "cell_type": "code",
   "execution_count": 16,
   "id": "4335e14f-286e-44bb-8a37-831cb3d38990",
   "metadata": {
    "scrolled": true,
    "tags": []
   },
   "outputs": [],
   "source": [
    "csv_dir = '../../data/upenn_GBM/csvs/radiomic_features_CaPTk/'\n",
    "image_dir = '../../data/upenn_GBM/images/NIfTI-files/'\n",
    "\n",
    "# The modality to create npy files out of. The numpy file will have a different derivative at each index\n",
    "#modality = 'struct'\n",
    "#modality = 'DSC'\n",
    "modality = 'DTI'\n",
    "\n",
    "# The output directory of the npy files\n",
    "out_dir = f'../../data/upenn_GBM/numpy_conversion_{modality}_channels/'\n",
    "\n",
    "# Specify the derivatives to put into the npy file, this corresponds to the order of the derivatives when using 'channel_idx' as a reference in the training notebook\n",
    "derivatives = {\n",
    "    'struct': ['T2', 'FLAIR', 'T1', 'T1GD'],\n",
    "    'DTI':  ['DTI_AD', 'DTI_FA', 'DTI_RD', 'DTI_TR'],\n",
    "    'DSC':['DSC_ap-rCBV', 'DSC_PH', 'DSC_PSR'],\n",
    "}\n",
    "#scale_file = 'image_scaling_'+modality+'.json'\n",
    "\n",
    "#auto_df, man_df, comb_df = dp.retrieve_data(csv_dir, modality=modality)\n",
    "#patients = pd.DataFrame(auto_df.iloc[:, 0:2])\n",
    "#classifier = 'Survival_from_surgery_days'\n",
    "classifier = 'MGMT'\n",
    "patients = dp.retrieve_patients(csv_dir, image_dir, modality='npy', classifier=classifier)\n",
    "\n",
    "#image_df = dp.retrieve_image_data(patients, modality=modality, image_dir_=image_dir)\n",
    "path_df = dp.convert_image_data_mod(patients, modality=derivatives[modality], \n",
    "                                image_dir_=image_dir, out_dir=out_dir,\n",
    "                                image_type='autosegm',\n",
    "                                #scale_file=scale_file,\n",
    "                                window=(140, 172, 164),\n",
    "                                pad_window=(70, 86, 86),\n",
    "                               #window=(64, 80, 60),\n",
    "                                base_dim=(155, 240, 240), downsample=True,\n",
    "                                window_idx = ((0, 140), (39, 211), (44,208)), down_factor=0.5)\n"
   ]
  }
 ],
 "metadata": {
  "kernelspec": {
   "display_name": "pytorch_gpu",
   "language": "python",
   "name": "pytorch_gpu"
  },
  "language_info": {
   "codemirror_mode": {
    "name": "ipython",
    "version": 3
   },
   "file_extension": ".py",
   "mimetype": "text/x-python",
   "name": "python",
   "nbconvert_exporter": "python",
   "pygments_lexer": "ipython3",
   "version": "3.10.13"
  }
 },
 "nbformat": 4,
 "nbformat_minor": 5
}
