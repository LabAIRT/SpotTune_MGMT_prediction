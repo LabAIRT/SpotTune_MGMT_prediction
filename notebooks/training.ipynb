{
 "cells": [
  {
   "cell_type": "markdown",
   "id": "f3d8289d-b45d-4385-8798-5e9c7cf78f83",
   "metadata": {},
   "source": [
    "# Training Notebook\n",
    "\n",
    "This notebook is used for training on data prepared using the data preparation notebook"
   ]
  },
  {
   "cell_type": "code",
   "execution_count": 1,
   "id": "1fdb6a41-f65b-422a-8937-6574bd89932a",
   "metadata": {},
   "outputs": [],
   "source": [
    "%load_ext autoreload\n",
    "%autoreload 2\n",
    "%reload_ext tensorboard\n",
    "#%matplotlib qt"
   ]
  },
  {
   "cell_type": "code",
   "execution_count": 2,
   "id": "ba4b7199-b10e-4f05-aed5-5187e91ed955",
   "metadata": {},
   "outputs": [],
   "source": [
    "\n",
    "# This is a blanket include statement cell, some of these may not be used in this notebook specifically\n",
    "import os\n",
    "from datetime import datetime\n",
    "import pandas as pd\n",
    "import numpy as np\n",
    "import json\n",
    "import matplotlib.pyplot as plt\n",
    "from matplotlib.backends.backend_pdf import PdfPages\n",
    "from collections import OrderedDict\n",
    "import SimpleITK as sitk\n",
    "#import logging\n",
    "#logging.getLogger(\"tensorflow\").setLevel(logging.ERROR)\n",
    "from collections import OrderedDict\n",
    "import torch\n",
    "import torchvision\n",
    "from torch import nn\n",
    "from torch.utils.data import DataLoader\n",
    "from torch.utils.tensorboard import SummaryWriter\n",
    "from torchvision import datasets\n",
    "\n",
    "import torchmetrics\n",
    "\n",
    "#import initial_ml as iml\n",
    "from gbm_project import data_prep as dp\n",
    "from gbm_project.pytorch.run_model_torch import RunModel\n",
    "\n",
    "from MedicalNet.models import resnet"
   ]
  },
  {
   "cell_type": "code",
   "execution_count": 3,
   "id": "672bda66-fb93-4df7-bac8-c2cf351b9c2f",
   "metadata": {},
   "outputs": [
    {
     "name": "stdout",
     "output_type": "stream",
     "text": [
      "using cuda device\n"
     ]
    }
   ],
   "source": [
    "device = \"cuda\" if torch.cuda.is_available() else \"cpu\"\n",
    "torch.cuda.manual_seed_all(42)\n",
    "print(f\"using {device} device\")"
   ]
  },
  {
   "cell_type": "code",
   "execution_count": 4,
   "id": "e877e03b-4a98-4d80-b8c5-0fdf64ef415a",
   "metadata": {
    "scrolled": true,
    "tags": []
   },
   "outputs": [],
   "source": [
    "##### Uncomment lines corresponding to desired modalities to run with\n",
    "'''\n",
    "csv_dir: directory to the csv files of the UPENN-GBM dataset\n",
    "image_dir: the location of the npy files for a specified modality\n",
    "modality: the modality group to be selected\n",
    "'''\n",
    "csv_dir = '../../data/upenn_GBM/csvs/radiomic_features_CaPTk/'\n",
    "mod_image_dir = '../../data/upenn_GBM'\n",
    "\n",
    "#####\n",
    "#modality = 'DSC'\n",
    "#modality = 'DTI'\n",
    "modality = 'struct'\n",
    "#####\n",
    "classifier = 'MGMT'\n",
    "\n",
    "image_dir = os.path.join(mod_image_dir, f\"numpy_conversion_{modality}_augmented_channels\")\n",
    "# This function gives the list of patients that will be used in the training\n",
    "patients = dp.retrieve_patients(csv_dir, image_dir, modality='npy', classifier=classifier)"
   ]
  },
  {
   "cell_type": "code",
   "execution_count": 5,
   "id": "1f7168f0-2086-433e-a336-66620fd6b6e3",
   "metadata": {},
   "outputs": [],
   "source": [
    "# loading in hyper-parameter and model configurations, editing them to fit desired parameter set\n",
    "\n",
    "from gbm_project.pytorch.gen_params_torch_cfg import gen_params, model_config\n",
    "# when using transfer learning only (no spottune) this specifies which layers to fine-tune\n",
    "model_config['no_freeze'] = ['conv_seg', 'layer4']\n",
    "model_config['n_epochs'] = 90\n",
    "gen_params['data_dir'] = image_dir\n",
    "\n",
    "# the number of channels to pull from the npy file, set at 1 channel\n",
    "gen_params['n_channels'] = 1\n",
    "# the index of the numpy array that contains the image data, corresponding to a specific modality/derivative\n",
    "gen_params['channel_idx'] = 0\n",
    "# a flag to use clinical data: currently using sex and age\n",
    "gen_params['use_clinical'] = False\n",
    "gen_params['n_classes'] = 1\n",
    "\n",
    "# Whether to use a learning rate scheduler\n",
    "model_config['lr_sched'] = True\n",
    "\n",
    "# Whether to use spottune as the network\n",
    "model_config['spottune'] = True\n",
    "model_config['lr_patience'] = 20\n",
    "model_config['learning_rate'] = 1e-5\n",
    "model_config['agent_learning_rate'] = 1e-4\n",
    "\n",
    "# a list of epochs at which to change the GS temperature, and the values to change them to\n",
    "model_config['temp_steps'] = [0]\n",
    "model_config['temp_vals'] = [1e2]\n",
    "\n",
    "# dropout rates\n",
    "model_config['dropout'] = 0.0\n",
    "model_config['agent_dropout'] = 0.0"
   ]
  },
  {
   "cell_type": "code",
   "execution_count": 6,
   "id": "4c518332-f935-4a24-b15f-2ef75fe848f2",
   "metadata": {},
   "outputs": [],
   "source": [
    "# Create the training/test splits for a specified modality\n",
    "X_test, y_test, kfold, X_kfold, y_kfold = dp.split_image_v2(csv_dir, mod_image_dir, n_cat=1, n_splits=5, modality=modality, seed=model_config['split_seed'])"
   ]
  },
  {
   "cell_type": "markdown",
   "id": "029ba9ea-d2a1-4304-992f-41a2781a8833",
   "metadata": {},
   "source": [
    "## Training cells\n",
    "The following cells start training for two different situtations"
   ]
  },
  {
   "cell_type": "code",
   "execution_count": null,
   "id": "25c29517-c92f-49f1-8bc0-586647ea1261",
   "metadata": {
    "scrolled": true,
    "tags": []
   },
   "outputs": [],
   "source": [
    "# To train on the derivative specified in 'gen_params['channel_idx']\n",
    "# performs 5-fold training on a single derivative\n",
    "\n",
    "for i, (train_index, test_index) in enumerate(kfold.split(X_kfold, y_kfold)):\n",
    "    model = RunModel(model_config, gen_params)\n",
    "    print(f\"---------Fold {i}--------------\")\n",
    "    torch.manual_seed(42)\n",
    "\n",
    "    # The network to train with\n",
    "    ##############################################################\n",
    "    # ResNet50 network using MedicalNet weights\n",
    "    #model.set_model(model_name='MedResNet50', transfer=True)\n",
    "    \n",
    "    # ResNet50 network using ImageNet weights\n",
    "    #model.set_model(model_name='ResNet50_torch', transfer=True)\n",
    "\n",
    "    # ResNet50 with randomly initialized weights\n",
    "    #model.set_model(model_name='ResNet50', transfer=False)\n",
    "\n",
    "    # SpotTune Network with MedicalNet Weights\n",
    "    model.set_model(model_name='spottune', transfer=True)\n",
    "\n",
    "    # SpotTune Network with ImageNet Weights\n",
    "    #model.set_model(model_name='spottune_imagenet', transfer=True)\n",
    "    ##############################################################\n",
    "\n",
    "    # set_agent should only be called when using the SpotTune network, it should be commented out otherwise\n",
    "    # creates the agent network to be used in the SpotTune network\n",
    "    model.set_agent()\n",
    "\n",
    "    # Sets the traing, validation, and testing data\n",
    "    model.set_train_data(X_kfold[train_index], y_kfold.iloc[train_index])\n",
    "    model.set_val_data(X_kfold[test_index], y_kfold.iloc[test_index])\n",
    "    model.set_test_data(X_test, y_test)\n",
    "    model.run()\n",
    "    print(f\"--------- End Fold {i}--------------\")\n",
    "    del model\n",
    "    "
   ]
  },
  {
   "cell_type": "code",
   "execution_count": null,
   "id": "1544bbf4-40c8-4215-9724-eb95e832d729",
   "metadata": {
    "scrolled": true,
    "tags": []
   },
   "outputs": [],
   "source": [
    "# Trains on all available derivatives in the modality chosen with the 'modality' variable\n",
    "# i.e. struct corresponds to T2, FLAIR, T1, T1GD. Each modality is consistently stored at a specific index in the npy file\n",
    "\n",
    "# Use for struct and DTI, since there are four derivatives\n",
    "for k in range(4):\n",
    "#Uncomment if using DSC derivatives (since there are only three)\n",
    "#for k in range(3):\n",
    "    #for j in [1, 100, 1e4, 1e6, 1e8]:\n",
    "        gen_params['channel_idx'] = k   \n",
    "        #model_config['temp_vals'] = [j]\n",
    "        for i, (train_index, test_index) in enumerate(kfold.split(X_kfold, y_kfold)):\n",
    "            model = RunModel(model_config, gen_params)\n",
    "            print(f\"---------Fold {i}--------------\")\n",
    "            torch.manual_seed(42)\n",
    "            # The network to train with\n",
    "            ##############################################################\n",
    "            # ResNet50 network using MedicalNet weights\n",
    "            #model.set_model(model_name='MedResNet50', transfer=True)\n",
    "            \n",
    "            # ResNet50 network using ImageNet weights\n",
    "            #model.set_model(model_name='ResNet50_torch', transfer=True)\n",
    "        \n",
    "            # ResNet50 with randomly initialized weights\n",
    "            #model.set_model(model_name='ResNet50', transfer=False)\n",
    "        \n",
    "            # SpotTune Network with MedicalNet Weights\n",
    "            model.set_model(model_name='spottune', transfer=True)\n",
    "        \n",
    "            # SpotTune Network with ImageNet Weights\n",
    "            #model.set_model(model_name='spottune_imagenet', transfer=True)\n",
    "            ##############################################################\n",
    "        \n",
    "            # set_agent should only be called when using the SpotTune network, it should be commented out otherwise\n",
    "            # creates the agent network to be used in the SpotTune network\n",
    "            model.set_agent()\n",
    "            model.set_train_data(X_kfold[train_index], y_kfold.iloc[train_index])\n",
    "            model.set_val_data(X_kfold[test_index], y_kfold.iloc[test_index])\n",
    "            model.set_test_data(X_test, y_test)\n",
    "            model.run()\n",
    "            print(f\"--------- End Fold {i}--------------\")\n",
    "            del model\n",
    "    "
   ]
  }
 ],
 "metadata": {
  "kernelspec": {
   "display_name": "pytorch_gpu",
   "language": "python",
   "name": "pytorch_gpu"
  },
  "language_info": {
   "codemirror_mode": {
    "name": "ipython",
    "version": 3
   },
   "file_extension": ".py",
   "mimetype": "text/x-python",
   "name": "python",
   "nbconvert_exporter": "python",
   "pygments_lexer": "ipython3",
   "version": "3.10.13"
  }
 },
 "nbformat": 4,
 "nbformat_minor": 5
}
